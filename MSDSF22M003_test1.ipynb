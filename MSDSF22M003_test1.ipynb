{
 "cells": [
  {
   "cell_type": "markdown",
   "id": "d131e1d7",
   "metadata": {},
   "source": [
    "Make appropriate changes in this code as per your classifier and return me this file. It should be executable with your test data."
   ]
  },
  {
   "cell_type": "code",
   "execution_count": 8,
   "id": "6a57cd3e",
   "metadata": {},
   "outputs": [
    {
     "name": "stdout",
     "output_type": "stream",
     "text": [
      "System Version: 3.11.4 | packaged by Anaconda, Inc. | (main, Jul  5 2023, 13:38:37) [MSC v.1916 64 bit (AMD64)]\n",
      "PyTorch version 2.1.0+cpu\n",
      "Torchvision version 0.16.0+cpu\n",
      "Numpy version 1.26.0\n",
      "Pandas version 1.5.3\n"
     ]
    }
   ],
   "source": [
    "import torch\n",
    "import torch.nn as nn\n",
    "import torch.optim as optim\n",
    "from torch.utils.data import Dataset, DataLoader\n",
    "import torchvision\n",
    "import torchvision.transforms as transforms\n",
    "from torchvision.datasets import ImageFolder\n",
    "import timm\n",
    "\n",
    "import matplotlib.pyplot as plt # For data viz\n",
    "import pandas as pd\n",
    "import numpy as np\n",
    "import sys\n",
    "from tqdm.notebook import tqdm\n",
    "\n",
    "print('System Version:', sys.version)\n",
    "print('PyTorch version', torch.__version__)\n",
    "print('Torchvision version', torchvision.__version__)\n",
    "print('Numpy version', np.__version__)\n",
    "print('Pandas version', pd.__version__)"
   ]
  },
  {
   "cell_type": "markdown",
   "id": "8c691435",
   "metadata": {},
   "source": [
    "#### Roll No: M003"
   ]
  },
  {
   "cell_type": "code",
   "execution_count": 9,
   "id": "c2d2818e",
   "metadata": {},
   "outputs": [],
   "source": [
    "test_dir = 'train_validate_test/test'"
   ]
  },
  {
   "cell_type": "markdown",
   "id": "5a70b243",
   "metadata": {},
   "source": [
    "####  Replace with your own class and transform. Just provide me the test loader"
   ]
  },
  {
   "cell_type": "code",
   "execution_count": 10,
   "id": "257d6039",
   "metadata": {},
   "outputs": [],
   "source": [
    "class OcularDataset(Dataset):\n",
    "    def __init__(self, data_dir, transform=None):\n",
    "        self.data = ImageFolder(data_dir, transform=transform)\n",
    "    def __len__(self):\n",
    "        return len(self.data)\n",
    "    def __getitem__(self, idx):\n",
    "        return self.data[idx]\n",
    "    @property\n",
    "    def classes(self):\n",
    "        return self.data.classes\n",
    "\n",
    "    \n",
    "#DatLoader\n",
    "transform = transforms.Compose([\n",
    "    transforms.Resize((128, 128)),    \n",
    "    transforms.ToTensor(),\n",
    "    transforms.Normalize((0.5, 0.5, 0.5), (0.5, 0.5, 0.5))\n",
    "])\n",
    "\n",
    "# trainset = OcularDataset(train_dir, transform)\n",
    "testset = OcularDataset(test_dir, transform)\n",
    "\n",
    "# validateset = OcularDataset(validate_dir, transform)\n",
    "\n",
    "\n",
    "# trainloader = DataLoader(trainset, batch_size=16, shuffle=True)\n",
    "testloader = DataLoader(testset, batch_size=16, shuffle=True)\n",
    "# validateloader = DataLoader(validateset, batch_size=16, shuffle=True)"
   ]
  },
  {
   "cell_type": "markdown",
   "id": "5584682b",
   "metadata": {},
   "source": [
    "#### Your classifier class"
   ]
  },
  {
   "cell_type": "code",
   "execution_count": 11,
   "id": "dcabb004",
   "metadata": {},
   "outputs": [],
   "source": [
    "class OcularClassifer(nn.Module):\n",
    "    def __init__(self, num_classes=6):\n",
    "        super(OcularClassifer, self).__init__()\n",
    "        self.base_model = timm.create_model('efficientnet_b0', pretrained=True)\n",
    "        self.features = nn.Sequential(*list(self.base_model.children())[:-1])\n",
    "        enet_out_size = 1280\n",
    "        self.classifier = nn.Sequential(\n",
    "            nn.Flatten(),\n",
    "            nn.Linear(enet_out_size, num_classes)\n",
    "        )\n",
    "    def forward(self, x):\n",
    "        # Connect these parts and return the output\n",
    "        x = self.features(x)\n",
    "        output = self.classifier(x)\n",
    "        return output"
   ]
  },
  {
   "cell_type": "code",
   "execution_count": 12,
   "id": "1fa0db1d",
   "metadata": {},
   "outputs": [
    {
     "data": {
      "text/plain": [
       "<All keys matched successfully>"
      ]
     },
     "execution_count": 12,
     "metadata": {},
     "output_type": "execute_result"
    }
   ],
   "source": [
    "device = torch.device(\"cuda:0\" if torch.cuda.is_available() else \"cpu\")\n",
    "PATH = 'trained_efficientnet1.pth' # your saved model\n",
    "model = OcularClassifer(num_classes=6).to(device)\n",
    "model.load_state_dict(torch.load(PATH))"
   ]
  },
  {
   "cell_type": "code",
   "execution_count": 13,
   "id": "6aa40878",
   "metadata": {},
   "outputs": [
    {
     "name": "stdout",
     "output_type": "stream",
     "text": [
      "Test Accuracy: 0.5509761388286334\n"
     ]
    }
   ],
   "source": [
    "from sklearn.metrics import accuracy_score, classification_report\n",
    "# Testing\n",
    "model.eval()\n",
    "all_test_preds = []\n",
    "all_test_labels = []\n",
    "with torch.no_grad():\n",
    "    for inputs, labels in testloader:\n",
    "        inputs, labels = inputs.to(device), labels.to(device)\n",
    "        outputs = model(inputs)\n",
    "        _, predicted = torch.max(outputs, 1)\n",
    "        all_test_preds.extend(predicted.cpu().numpy())\n",
    "        all_test_labels.extend(labels.cpu().numpy())\n",
    "\n",
    "# Calculate test accuracy\n",
    "test_accuracy = accuracy_score(all_test_labels, all_test_preds)\n",
    "print(f\"Test Accuracy: {test_accuracy}\")"
   ]
  },
  {
   "cell_type": "code",
   "execution_count": 14,
   "id": "0253d355",
   "metadata": {},
   "outputs": [
    {
     "name": "stdout",
     "output_type": "stream",
     "text": [
      "                                  precision    recall  f1-score   support\n",
      "\n",
      "age_related_macular_degeneration       0.54      0.60      0.57        78\n",
      "                        cataract       0.94      0.82      0.88        79\n",
      "                        diabetes       0.33      0.22      0.26        73\n",
      "                        glaucoma       0.48      0.57      0.52        76\n",
      "                    hypertension       0.82      0.55      0.66        75\n",
      "                          normal       0.36      0.53      0.43        80\n",
      "\n",
      "                        accuracy                           0.55       461\n",
      "                       macro avg       0.58      0.55      0.55       461\n",
      "                    weighted avg       0.58      0.55      0.55       461\n",
      "\n"
     ]
    }
   ],
   "source": [
    "# Generate a classification report\n",
    "class_names = testset.classes\n",
    "report = classification_report(all_test_labels, all_test_preds, target_names=class_names)\n",
    "print(report)"
   ]
  },
  {
   "cell_type": "code",
   "execution_count": null,
   "id": "604c34e0",
   "metadata": {},
   "outputs": [],
   "source": []
  }
 ],
 "metadata": {
  "kernelspec": {
   "display_name": "Python 3 (ipykernel)",
   "language": "python",
   "name": "python3"
  },
  "language_info": {
   "codemirror_mode": {
    "name": "ipython",
    "version": 3
   },
   "file_extension": ".py",
   "mimetype": "text/x-python",
   "name": "python",
   "nbconvert_exporter": "python",
   "pygments_lexer": "ipython3",
   "version": "3.11.4"
  }
 },
 "nbformat": 4,
 "nbformat_minor": 5
}
